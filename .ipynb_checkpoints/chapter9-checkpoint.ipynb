{
 "cells": [
  {
   "cell_type": "code",
   "execution_count": 1,
   "metadata": {},
   "outputs": [
    {
     "data": {
      "image/png": "[encoded data removed]",
      "text/plain": [
       "<Figure size 288x288 with 1 Axes>"
      ]
     },
     "metadata": {
      "needs_background": "light"
     },
     "output_type": "display_data"
    }
   ],
   "source": [
    "import numpy as np\n",
    "import matplotlib.pyplot as plt\n",
    "%matplotlib inline\n",
    "\n",
    "# data generation\n",
    "np.random.seed(1)\n",
    "N = 100\n",
    "K = 3\n",
    "T3 = np.zeros((N,3),dtype=np.uint8)\n",
    "X = np.zeros((N,2))\n",
    "X_range0 = [-3,3]\n",
    "X_range1 = [-3,3]\n",
    "X_col = ['cornflowerblue','black','white']\n",
    "Mu = np.array([[-.5,-.5],[.5,1.0],[1,-.5]])\n",
    "Sig = np.array([[.7,.7],[.8,.3],[.3,.8]])\n",
    "Pi = np.array([0.4,0.8,1])\n",
    "\n",
    "for n in range(N):\n",
    "    wk = np.random.rand()\n",
    "    for k in range(K):\n",
    "        if wk < Pi[k]:\n",
    "            T3[n,k] = 1\n",
    "            break\n",
    "    for k in range(2):\n",
    "        X[n,k] = (np.random.randn()*Sig[T3[n,:] == 1,k] + Mu[T3[n,:] == 1,k ])\n",
    "\n",
    "# data show\n",
    "def show_data(x):\n",
    "    plt.plot(x[:,0],x[:,1],linestyle='none',marker='o',markersize=6,markeredgecolor='black',color='gray',alpha=0.8)\n",
    "    plt.grid(True)\n",
    "\n",
    "# main\n",
    "plt.figure(1,figsize=(4,4))\n",
    "show_data(X)\n",
    "plt.xlim(X_range0)\n",
    "plt.ylim(X_range1)\n",
    "plt.show()\n",
    "np.savez('data_ch9.npz',X=X,X_range0=X_range0,X_range1=X_range1)\n",
    "\n"
   ]
  }
 ],
 "metadata": {
  "kernelspec": {
   "display_name": "Python 3",
   "language": "python",
   "name": "python3"
  },
  "language_info": {
   "codemirror_mode": {
    "name": "ipython",
    "version": 3
   },
   "file_extension": ".py",
   "mimetype": "text/x-python",
   "name": "python",
   "nbconvert_exporter": "python",
   "pygments_lexer": "ipython3",
   "version": "3.7.9"
  }
 },
 "nbformat": 4,
 "nbformat_minor": 4
}
