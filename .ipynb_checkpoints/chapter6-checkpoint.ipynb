{
 "cells": [
  {
   "cell_type": "markdown",
   "metadata": {},
   "source": [
    "#### 1次元入力 2クラス出力"
   ]
  },
  {
   "cell_type": "code",
   "execution_count": 1,
   "metadata": {},
   "outputs": [
    {
     "name": "stdout",
     "output_type": "stream",
     "text": [
      "X=[1.94 1.67 0.92 1.11 1.41 1.65 2.28 0.47 1.07 2.19 2.08 1.02 0.91 1.16\n",
      " 1.46 1.02 0.85 0.89 1.79 1.89 0.75 0.9  1.87 0.5  0.69 1.5  0.96 0.53\n",
      " 1.21 0.6 ]\n",
      "T=[1 1 0 0 1 1 1 0 0 1 1 0 0 0 1 0 0 0 1 1 0 1 1 0 0 1 1 0 1 0]\n"
     ]
    }
   ],
   "source": [
    "# list\n",
    "import numpy as np\n",
    "import matplotlib.pyplot as plt\n",
    "%matplotlib inline\n",
    "\n",
    "# data generation\n",
    "np.random.seed(seed=0) #乱数固定\n",
    "X_min = 0\n",
    "X_max = 2.5\n",
    "X_n = 30\n",
    "X_col = ['cornflowerblue','gray']\n",
    "X = np.zeros(X_n) # input data\n",
    "T = np.zeros(X_n,dtype=np.uint8) # target data\n",
    "Dist_s = [0.4,0.8] # 分布の開始地点\n",
    "Dist_w = [0.8,1.6] # 分布の幅\n",
    "Pi = 0.5 # クラス0の比率\n",
    "for n in range(X_n):\n",
    "    wk = np.random.rand()\n",
    "    T[n] = 0 * (wk < Pi) + 1 *(wk>= Pi) #(A)\n",
    "    X[n] = np.random.rand() * Dist_w[T[n]] + Dist_s[T[n]] #(B)\n",
    "    \n",
    "# data show\n",
    "print('X='+str(np.round(X,2)))\n",
    "print('T='+str(T))\n"
   ]
  },
  {
   "cell_type": "code",
   "execution_count": 2,
   "metadata": {},
   "outputs": [
    {
     "data": {
      "image/png": "[encoded data removed]",
      "text/plain": [
       "<Figure size 216x216 with 1 Axes>"
      ]
     },
     "metadata": {
      "needs_background": "light"
     },
     "output_type": "display_data"
    }
   ],
   "source": [
    "# データ分布表示\n",
    "def show_data1(x,t):\n",
    "    K = np.max(t) + 1\n",
    "    for k in range(K): # (A)\n",
    "        plt.plot(x[t==k],t[t==k],X_col[k],alpha=0.5,linestyle='none',marker='o') #(B)\n",
    "\n",
    "    plt.grid(True)\n",
    "    plt.ylim(-.5,1.5)\n",
    "    plt.xlim(X_min,X_max)\n",
    "    plt.yticks([0,1])\n",
    "    \n",
    "# main\n",
    "fig = plt.figure(figsize=(3,3))\n",
    "show_data1(X,T)\n",
    "plt.show()\n"
   ]
  },
  {
   "cell_type": "markdown",
   "metadata": {},
   "source": [
    "#### ロジスティック回帰モデル"
   ]
  },
  {
   "cell_type": "code",
   "execution_count": 3,
   "metadata": {},
   "outputs": [
    {
     "data": {
      "text/plain": [
       "1.25"
      ]
     },
     "execution_count": 3,
     "metadata": {},
     "output_type": "execute_result"
    },
    {
     "data": {
      "image/png": "[encoded data removed]",
      "text/plain": [
       "<Figure size 432x288 with 1 Axes>"
      ]
     },
     "metadata": {
      "needs_background": "light"
     },
     "output_type": "display_data"
    }
   ],
   "source": [
    "def logistic(x,w):\n",
    "    y = 1 / (1+np.exp(-(w[0]*x + w[1])))\n",
    "    return y\n",
    "\n",
    "def show_logistic(w):\n",
    "    xb = np.linspace(X_min,X_max,100)\n",
    "    y = logistic(xb,w)\n",
    "    plt.plot(xb,y,color='gray',linewidth=4)\n",
    "    \n",
    "    # 境界決定\n",
    "    i = np.min(np.where(y>0.5)) # (A)\n",
    "    B = (xb[i-1] + xb[i]) / 2 # (B)\n",
    "    plt.plot([B,B],[-.5,1.5],color='k',linestyle='--')\n",
    "    plt.grid(True)\n",
    "    return B\n",
    "\n",
    "# test\n",
    "W = [8,-10]\n",
    "show_logistic(W)\n",
    "\n",
    "\n"
   ]
  },
  {
   "cell_type": "markdown",
   "metadata": {},
   "source": [
    "#### 交差エントロピ"
   ]
  },
  {
   "cell_type": "code",
   "execution_count": 5,
   "metadata": {},
   "outputs": [
    {
     "data": {
      "text/plain": [
       "1.0288191541851066"
      ]
     },
     "execution_count": 5,
     "metadata": {},
     "output_type": "execute_result"
    }
   ],
   "source": [
    "def cee_logistic(w,x,t):\n",
    "    y = logistic(x,w)\n",
    "    cee = 0\n",
    "    \n",
    "    for n in range(len(y)):\n",
    "        cee = cee - (t[n] * np.log(y[n]) + (1 - t[n])*np.log(1 - y[n]))\n",
    "    \n",
    "    cee = cee / X_n\n",
    "    return cee\n",
    "\n",
    "# test\n",
    "W=[1,1]\n",
    "cee_logistic(W,X,T)"
   ]
  }
 ],
 "metadata": {
  "kernelspec": {
   "display_name": "Python 3",
   "language": "python",
   "name": "python3"
  },
  "language_info": {
   "codemirror_mode": {
    "name": "ipython",
    "version": 3
   },
   "file_extension": ".py",
   "mimetype": "text/x-python",
   "name": "python",
   "nbconvert_exporter": "python",
   "pygments_lexer": "ipython3",
   "version": "3.7.9"
  }
 },
 "nbformat": 4,
 "nbformat_minor": 4
}
