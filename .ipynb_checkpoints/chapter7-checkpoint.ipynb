{
 "cells": [
  {
   "cell_type": "markdown",
   "metadata": {},
   "source": [
    "#### 2層フィードフォワードニューラルネットの実装"
   ]
  },
  {
   "cell_type": "code",
   "execution_count": 1,
   "metadata": {},
   "outputs": [],
   "source": [
    "# List\n",
    "import numpy as np\n",
    "\n",
    "# data generation\n",
    "np.random.seed(seed=1) # 乱数を固定\n",
    "N = 200 # number of data\n",
    "K = 3 # 分布の数\n",
    "T = np.zeros((N,3),dtype=np.uint8)\n",
    "X = np.zeros((N,2))\n",
    "X_range0 = [-3,3]\n",
    "X_range1 = [-3,3]\n",
    "Mu = np.array([[-.5,-.5],[.5,1.0],[1,-.5]]) # 分布の中心\n",
    "Sig = np.array([[.7,.7],[.8,.3],[.3,.8]]) # 分布の分散\n",
    "Pi = np.array([0.4,0.8,1]) # 各分布への割合\n",
    "\n",
    "for n in range(N):\n",
    "    wk = np.random.rand()\n",
    "    for k in range(K):\n",
    "        if wk < Pi[k]:\n",
    "            T[n,k] = 1\n",
    "            break\n",
    "    for k in range(2):\n",
    "        X[n,k] = np.random.randn()*Sig[T[n,:] == 1,k] + Mu[T[n,:] == 1,k]\n",
    "            "
   ]
  },
  {
   "cell_type": "code",
   "execution_count": 2,
   "metadata": {},
   "outputs": [],
   "source": [
    "# 2分類のデータをテスト・訓練データに分割\n",
    "TrainingRatio = 0.5\n",
    "X_n_training = int(N * TrainingRatio)\n",
    "X_train = X[:X_n_training, :]\n",
    "X_test = X[X_n_training:, :]\n",
    "T_train = T[:X_n_training, :]\n",
    "T_test = T[X_n_training:, :]\n",
    "\n",
    "# データを 'class_data.npz' に保存\n",
    "np.savez('class_data.npz',X_train=X_train,T_train=T_train,X_test=X_test,T_test=T_test,X_range0=X_range0,X_range1=X_range1)\n"
   ]
  },
  {
   "cell_type": "code",
   "execution_count": 3,
   "metadata": {},
   "outputs": [
    {
     "data": {
      "image/png": "[encoded data removed]",
      "text/plain": [
       "<Figure size 576x266.4 with 2 Axes>"
      ]
     },
     "metadata": {
      "needs_background": "light"
     },
     "output_type": "display_data"
    }
   ],
   "source": [
    "import matplotlib.pyplot as plt\n",
    "%matplotlib inline\n",
    "\n",
    "# データの図示\n",
    "def Show_data(x, t):\n",
    "    wk, n = t.shape\n",
    "    c = [[0, 0, 0], [.5, .5, .5], [1, 1, 1]]\n",
    "    for i in range(n):\n",
    "        plt.plot(x[t[:, i] == 1, 0], x[t[:, i] == 1, 1],\n",
    "                 linestyle='none',\n",
    "                 marker='o', markeredgecolor='black',\n",
    "                 color=c[i], alpha=0.8)\n",
    "    plt.grid(True)\n",
    "# main\n",
    "plt.figure(1, figsize=(8, 3.7))\n",
    "plt.subplot(1, 2, 1)\n",
    "Show_data(X_train, T_train)\n",
    "plt.xlim(X_range0)\n",
    "plt.ylim(X_range1)\n",
    "plt.title('Training Data')\n",
    "plt.subplot(1, 2, 2)\n",
    "Show_data(X_test, T_test)\n",
    "plt.xlim(X_range0)\n",
    "plt.ylim(X_range1)\n",
    "plt.title('Test Data')\n",
    "plt.show()"
   ]
  },
  {
   "cell_type": "code",
   "execution_count": 4,
   "metadata": {},
   "outputs": [
    {
     "data": {
      "text/plain": [
       "(array([[0.33333333, 0.33333333, 0.33333333],\n",
       "        [0.33333333, 0.33333333, 0.33333333]]),\n",
       " array([[2.6971835 , 2.6971835 , 2.6971835 ],\n",
       "        [1.49172649, 1.49172649, 1.49172649]]),\n",
       " array([[0.84859175, 0.84859175, 1.        ],\n",
       "        [0.24586324, 0.24586324, 1.        ]]),\n",
       " array([[ 1.72359839,  1.72359839,  0.        ],\n",
       "        [-1.12079826, -1.12079826,  0.        ]]))"
      ]
     },
     "execution_count": 4,
     "metadata": {},
     "output_type": "execute_result"
    }
   ],
   "source": [
    "# シグモイド関数\n",
    "def Sigmoid(x):\n",
    "    y = 1/(1 + np.exp(-x))\n",
    "    return y\n",
    "\n",
    "# network\n",
    "def FNN(wv,M,K,x):\n",
    "    N,D = x.shape # 入力次元\n",
    "    w = wv[:M*(D+1)] #中間層ニューロンへの重み\n",
    "    w = w.reshape(M,(D+1))\n",
    "    v = wv[M*(D+1):] # 出力層ニューロンへの重み\n",
    "    v = v.reshape((K,M+1))\n",
    "    b = np.zeros((N,M+1)) # 中間層ニューロンの入力総和\n",
    "    z = np.zeros((N,M+1)) # 中間層ニューロンの出力\n",
    "    a = np.zeros((N,K)) # 出力層ニューロンの入力総和\n",
    "    y = np.zeros((N,K)) #出力層ニューロンの出力\n",
    "    \n",
    "    for n in range(N):\n",
    "        # 中間層の計算\n",
    "        for m in range(M):\n",
    "            b[n,m] = np.dot(w[m,:],np.r_[x[n,:],1]) # A\n",
    "            z[n,m] = Sigmoid(b[n,m])\n",
    "        # 出力層の計算\n",
    "        z[n,M] = 1 #dammy neuron\n",
    "        wkz = 0\n",
    "        \n",
    "        for k in range(K):\n",
    "            a[n,k] = np.dot(v[k,:],z[n,:])\n",
    "            wkz = wkz + np.exp(a[n,k])\n",
    "        for k in range(K):\n",
    "            y[n,k] = np.exp(a[n,k])/wkz\n",
    "    \n",
    "    return y,a,z,b\n",
    "\n",
    "# test\n",
    "WV = np.ones(15)\n",
    "M = 2\n",
    "K = 3\n",
    "FNN (WV,M,K,X_train[:2,:])"
   ]
  },
  {
   "cell_type": "code",
   "execution_count": 7,
   "metadata": {},
   "outputs": [
    {
     "name": "stdout",
     "output_type": "stream",
     "text": [
      "[1 2 3 4 5 6]\n",
      "[1 2 3 1]\n",
      "[1 2 3]\n",
      "[[1]\n",
      " [2]\n",
      " [3]]\n",
      "[[5]\n",
      " [5]\n",
      " [5]]\n",
      "[[1]\n",
      " [2]\n",
      " [3]\n",
      " [5]\n",
      " [5]\n",
      " [5]]\n",
      "[1 2 3 5 5 5]\n",
      "[1 2 3]\n"
     ]
    }
   ],
   "source": [
    "# numpy確認\n",
    "aa = np.array([1,2,3])\n",
    "bb = np.array([4,5,6])\n",
    "aa_bb = np.r_[aa,bb]\n",
    "print(aa_bb)\n",
    "\n",
    "aa_1 = np.r_[aa,1]\n",
    "print(aa_1)\n",
    "\n",
    "aat1 = aa.T\n",
    "print(aat1)\n",
    "\n",
    "aat2 = np.reshape(aat1,(3,1))\n",
    "print(aat2)\n",
    "\n",
    "cc = np.array([5,5,5])\n",
    "cct = np.reshape(cc,(3,1))\n",
    "print(cct)\n",
    "\n",
    "aat2_cct = np.r_[aat2,cct]\n",
    "print(aat2_cct)\n",
    "\n",
    "aat2_cct_re1 = aat2_cct.reshape(-1)\n",
    "print(aat2_cct_re1)\n",
    "\n",
    "aa_re1 = aa.reshape(-1)\n",
    "print(aa_re1)"
   ]
  },
  {
   "cell_type": "code",
   "execution_count": 9,
   "metadata": {},
   "outputs": [
    {
     "data": {
      "text/plain": [
       "1.0986122886681098"
      ]
     },
     "execution_count": 9,
     "metadata": {},
     "output_type": "execute_result"
    }
   ],
   "source": [
    "# 平均交差エントロピ誤差\n",
    "def CE_FNN(wv,M,K,x,t):\n",
    "    N,D = x.shape\n",
    "    y,a,z,b = FNN(wv,M,K,x)\n",
    "    ce = -np.dot(t.reshape(-1),np.log(y.reshape(-1)))/N\n",
    "    return ce\n",
    "\n",
    "# test\n",
    "WV = np.ones(15)\n",
    "M = 2\n",
    "K = 3\n",
    "CE_FNN(WV,M,K,X_train[:2,:],T_train[:2,:])"
   ]
  },
  {
   "cell_type": "markdown",
   "metadata": {},
   "source": [
    "#### 数値積分方"
   ]
  },
  {
   "cell_type": "code",
   "execution_count": 11,
   "metadata": {},
   "outputs": [
    {
     "name": "stdout",
     "output_type": "stream",
     "text": [
      "[ 0.0884813   0.19157999 -0.05139799  0.01281536 -0.14468029 -0.14242768\n",
      " -0.02992012  0.01351315 -0.11115648 -0.10104422 -0.09427964 -0.46855603\n",
      "  0.13096434  0.08076649  0.57971252]\n"
     ]
    },
    {
     "data": {
      "image/png": "[encoded data removed]",
      "text/plain": [
       "<Figure size 360x216 with 1 Axes>"
      ]
     },
     "metadata": {
      "needs_background": "light"
     },
     "output_type": "display_data"
    }
   ],
   "source": [
    "def dCE_FNN_num(wv,M,K,x,t):\n",
    "    epsilon = 0.001\n",
    "    dwv = np.zeros_like(wv)\n",
    "    \n",
    "    for iwv in range(len(wv)):\n",
    "        wv_modified = wv.copy()\n",
    "        wv_modified[iwv] = wv[iwv] - epsilon\n",
    "        mse1 = CE_FNN(wv_modified,M,K,x,t)\n",
    "        wv_modified[iwv] = wv[iwv] + epsilon\n",
    "        mse2 = CE_FNN(wv_modified,M,K,x,t)\n",
    "        dwv[iwv] = (mse2 - mse1) / (2*epsilon)\n",
    "        \n",
    "    return dwv\n",
    "\n",
    "# dwvの表示\n",
    "def Show_WV(wv,M):\n",
    "    N = wv.shape[0]\n",
    "    plt.bar(range(1,M*3 +1),wv[:M*3],align=\"center\",color='black')\n",
    "    plt.bar(range(M*3+1,N+1),wv[M*3:],align=\"center\",color='cornflowerblue')\n",
    "    plt.xticks(range(1,N+1))\n",
    "    plt.xlim(0,N+1)\n",
    "\n",
    "# test\n",
    "M = 2\n",
    "K = 3\n",
    "nWV = M*3 + K*(M+1)\n",
    "np.random.seed(1)\n",
    "WV = np.random.normal(0,1,nWV)\n",
    "dWV = dCE_FNN_num(WV,M,K,X_train[:2,:],T_train[:2,:])\n",
    "print(dWV)\n",
    "plt.figure(1,figsize=(5,3))\n",
    "Show_WV(dWV,M)\n",
    "plt.show()"
   ]
  }
 ],
 "metadata": {
  "kernelspec": {
   "display_name": "Python 3",
   "language": "python",
   "name": "python3"
  },
  "language_info": {
   "codemirror_mode": {
    "name": "ipython",
    "version": 3
   },
   "file_extension": ".py",
   "mimetype": "text/x-python",
   "name": "python",
   "nbconvert_exporter": "python",
   "pygments_lexer": "ipython3",
   "version": "3.7.9"
  }
 },
 "nbformat": 4,
 "nbformat_minor": 4
}
